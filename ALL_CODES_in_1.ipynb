{
 "cells": [
  {
   "cell_type": "markdown",
   "id": "6b85632c",
   "metadata": {},
   "source": [
    "# Where should I open a Resturant with the Highest Chacne of Success"
   ]
  },
  {
   "cell_type": "code",
   "execution_count": 2,
   "id": "8893ef9f-06d8-4439-9db6-f46a8fcb5523",
   "metadata": {},
   "outputs": [],
   "source": [
    "from collections import defaultdict\n",
    "import pandas as pd\n",
    "import matplotlib.pyplot as plt \n",
    "import numpy as np"
   ]
  },
  {
   "cell_type": "code",
   "execution_count": 3,
   "id": "4919254e-a9bc-411a-8082-caef696b0ebe",
   "metadata": {},
   "outputs": [],
   "source": [
    "dfr= pd.read_csv('restaurant.csv')\n",
    "dfc= pd.read_csv('consumer.csv')\n",
    "dfcu= pd.read_csv('cuisines.csv')\n",
    "dfra= pd.read_csv('ratings.csv')\n",
    "dfcp= pd.read_csv('consumerpref.csv')\n",
    "rest_list = dfr['Restaurant_ID']\n",
    "franchise = dfr['Franchise']\n",
    "idToFranchise = {}"
   ]
  },
  {
   "cell_type": "code",
   "execution_count": 4,
   "id": "fd923221-40ff-40bf-9a26-98abcf4fd932",
   "metadata": {},
   "outputs": [],
   "source": [
    "n = len(rest_list)\n",
    "for i in range(n):\n",
    "    id = rest_list[i]\n",
    "    status = franchise[i]\n",
    "    idToFranchise[id] = status"
   ]
  },
  {
   "cell_type": "code",
   "execution_count": 5,
   "id": "0f33b7c6-1466-4609-96ec-07f2d92e0eda",
   "metadata": {},
   "outputs": [],
   "source": [
    "ratings_rest_id = dfra['Restaurant_ID']\n",
    "ratings_overal = dfra['Overall_Rating']\n",
    "\n",
    "idToRating = {}\n",
    "for i in range(n):\n",
    "    id = ratings_rest_id[i]\n",
    "    rat = ratings_overal[i]\n",
    "    idToRating[id] = rat"
   ]
  },
  {
   "cell_type": "code",
   "execution_count": 6,
   "id": "3e1d935d-4e91-44e1-9c39-145caa15121f",
   "metadata": {},
   "outputs": [
    {
     "name": "stdout",
     "output_type": "stream",
     "text": [
      "Non franchise rating 2\n",
      "total= 6 [135104, 132626, 135001, 134996, 135021, 132768]\n",
      "franchise rating 2\n",
      "total= 19 [135038, 132825, 132740, 132660, 132665, 132668, 132715, 132717, 132564, 135034, 132723, 135075, 135074, 135032, 134976, 135018, 134986, 135000, 132773]\n"
     ]
    }
   ],
   "source": [
    "franchiseRating = defaultdict(list)\n",
    "NonfranchisRating = defaultdict(list)\n",
    "\n",
    "for id in idToRating:\n",
    "    rat = idToRating[id]\n",
    "    if idToFranchise[id]=='No':\n",
    "        franchiseRating[rat].append(id)\n",
    "    else:\n",
    "        NonfranchisRating[rat].append(id)\n",
    "\n",
    "\n",
    "print(\"Non franchise rating 2\")\n",
    "ls = NonfranchisRating[2]\n",
    "print(\"total=\", len(ls), ls)\n",
    "\n",
    "print(\"franchise rating 2\")\n",
    "ls = franchiseRating[2]\n",
    "print(\"total=\", len(ls), ls)"
   ]
  },
  {
   "cell_type": "code",
   "execution_count": 7,
   "id": "b739363f-4a35-4a53-9ff9-08dab5223f68",
   "metadata": {},
   "outputs": [
    {
     "data": {
      "image/png": "[encoded data removed]",
      "text/plain": [
       "<Figure size 432x288 with 1 Axes>"
      ]
     },
     "metadata": {},
     "output_type": "display_data"
    }
   ],
   "source": [
    "better = [6,19]\n",
    "t_labels = 'Non franchise', 'franchise'\n",
    "plt.pie (better,labels= t_labels,autopct='%1.1f%%')\n",
    "plt.title ('Franchise & Non Franchise who have overall rating of 2')\n",
    "plt.axis ('equal')\n",
    "plt.show()"
   ]
  },
  {
   "cell_type": "code",
   "execution_count": 8,
   "id": "68c4b019-3325-44ef-ae0a-e5068d5df407",
   "metadata": {},
   "outputs": [],
   "source": [
    "good_rest = franchiseRating[2]\n"
   ]
  },
  {
   "cell_type": "code",
   "execution_count": 9,
   "id": "2c150a44-2bd8-49a1-80ef-b003d1b5f7aa",
   "metadata": {},
   "outputs": [],
   "source": [
    "rest_id = dfra['Restaurant_ID']\n",
    "ratings_food = dfra['Food_Rating']"
   ]
  },
  {
   "cell_type": "code",
   "execution_count": 10,
   "id": "68644735-6d95-4cf5-8cdd-1fade920765c",
   "metadata": {},
   "outputs": [
    {
     "name": "stdout",
     "output_type": "stream",
     "text": [
      "restaurent with both overal and food rat greater than 2\n",
      "19 {132740, 135074, 135075, 132773, 132660, 132665, 132668, 134976, 134986, 132564, 135000, 132825, 135018, 132715, 132717, 132723, 135032, 135034, 135038}\n"
     ]
    }
   ],
   "source": [
    "both_rat = set()\n",
    "n = len(rest_id)\n",
    "for i in range(n):\n",
    "    id = rest_id[i]\n",
    "    rat = ratings_food[i]\n",
    "    if rat == 2 and id in good_rest:\n",
    "        both_rat.add(id)\n",
    "\n",
    "print(\"restaurent with both overal and food rat greater than 2\")\n",
    "print(len(both_rat), both_rat)"
   ]
  },
  {
   "cell_type": "code",
   "execution_count": 11,
   "id": "34245885-b567-41bb-9c04-771d5d4901a8",
   "metadata": {},
   "outputs": [],
   "source": [
    "rest_ids = dfr['Restaurant_ID']\n",
    "citys = dfr['City']"
   ]
  },
  {
   "cell_type": "code",
   "execution_count": 12,
   "id": "4c25d5b1-6105-43f3-b539-438e134545e5",
   "metadata": {},
   "outputs": [
    {
     "name": "stdout",
     "output_type": "stream",
     "text": [
      "Ciudad Victoria\n",
      "Ciudad Victoria\n",
      "Ciudad Victoria\n",
      "Ciudad Victoria\n",
      "Ciudad Victoria\n",
      "Ciudad Victoria\n",
      "San Luis Potosi\n",
      "Ciudad Victoria\n",
      "Cuernavaca\n",
      "San Luis Potosi\n",
      "Cuernavaca\n",
      "Cuernavaca\n",
      "Cuernavaca\n",
      "Cuernavaca\n",
      "San Luis Potosi\n",
      "San Luis Potosi\n",
      "San Luis Potosi\n",
      "San Luis Potosi\n",
      "San Luis Potosi\n",
      "{'Ciudad Victoria': {132740, 132715, 132717, 132564, 132660, 132665, 132668}, 'San Luis Potosi': {135074, 135075, 132723, 135032, 132825, 135034, 135038}, 'Cuernavaca': {134976, 132773, 134986, 135018, 135000}}\n"
     ]
    }
   ],
   "source": [
    "n = len(rest_id)\n",
    "cityToIDs = {}\n",
    "for i in range(n):\n",
    "    try:\n",
    "        id = rest_ids[i]\n",
    "        city = citys[i]\n",
    "        if id in both_rat:\n",
    "            print(city)\n",
    "            if city not in cityToIDs:\n",
    "                cityToIDs[city] = set()\n",
    "            cityToIDs[city].add(id)\n",
    "    except:\n",
    "        pass\n",
    "\n",
    "print(cityToIDs)"
   ]
  },
  {
   "cell_type": "code",
   "execution_count": 13,
   "id": "d0d0cd3a-6655-4ff3-8b89-8e5b3a38ec9b",
   "metadata": {},
   "outputs": [
    {
     "data": {
      "image/png": "[encoded data removed]",
      "text/plain": [
       "<Figure size 432x288 with 1 Axes>"
      ]
     },
     "metadata": {
      "needs_background": "light"
     },
     "output_type": "display_data"
    }
   ],
   "source": [
    "city = ['Ciudad Victoria','San Luis Potosi','Cuernavaca']\n",
    "restaurants_in_city = [7,7,5]\n",
    "plt.bar(city,restaurants_in_city)\n",
    "plt.show()\n"
   ]
  },
  {
   "cell_type": "code",
   "execution_count": 14,
   "id": "c0d368e5-4951-4ed7-b3c2-7f2b6f9b39ff",
   "metadata": {},
   "outputs": [
    {
     "name": "stdout",
     "output_type": "stream",
     "text": [
      "defaultdict(<class 'int'>, {'American': 11, 'Mexican': 97, 'Bakery': 3, 'Breakfast': 3, 'Japanese': 7, 'Contemporary': 5, 'Bagels': 2, 'Coffee Shop': 8, 'Continental': 2, 'Cafeteria': 9, 'Family': 8, 'Juice': 3, 'Hawaiian': 2, 'Hot Dogs': 6, 'Latin American': 6, 'Korean': 2, 'Italian': 7, 'Diner': 3, 'Fast Food': 5, 'Deli': 3, 'Regional': 5, 'Fusion': 2, 'Portuguese': 2, 'Indian': 2, 'Eastern European': 2, 'Lebanese': 2, 'Moroccan': 3, 'Barbecue': 3, 'Polynesian': 2, 'Polish': 2, 'Chinese': 6, 'Pizzeria': 9, 'Burgers': 6, 'Afghan': 4, 'Middle Eastern': 2, 'Mongolian': 2, 'Bar': 3, 'Cuban': 2, 'Tex Mex': 3, 'Spanish': 2, 'Soup': 2, 'Sushi': 3, 'Game': 3, 'Doughnuts': 2, 'Australian': 2, 'Asian': 3, 'Ice Cream': 2, 'Seafood': 2, 'Turkish': 2, 'Organic': 1, 'Steaks': 1, 'Mediterranean': 1, 'British': 1, 'Austrian': 1, 'Israeli': 1, 'Russian': 1, 'Malaysian': 1, 'Vegetarian': 1, 'Peruvian': 1, 'Tapas': 1, 'Eclectic': 1, 'African': 1, 'Basque': 1, 'Canadian': 1, 'Irish': 1, 'Southwestern': 1, 'Tea House': 1, 'International': 1, 'Pacific': 2, 'German': 1, 'Persian': 1, 'Ethiopian': 1, 'Romanian': 1, 'Cambodian': 1, 'Tunisian': 1, 'Filipino': 1, 'Dim Sum': 1, 'Greek': 1, 'Thai': 1, 'Swiss': 1, 'Cajun': 1, 'Armenian': 1, 'Indigenous': 1, 'Brewery': 1, 'Caribbean': 1, 'Indonesian': 1, 'Hungarian': 1, 'Dutch': 1, 'Kosher': 1, 'Fine_Dining': 1, 'Jamaican': 1, 'Tibetan': 1, 'Burmese': 1, 'California': 1, 'Scandinavian': 1, 'Chilean': 1, 'North African': 1, 'Vietnamese': 1, 'French': 1, 'Brazilian': 1, 'Southern': 1, nan: 1})\n",
      "[[97, 'Mexican'], [11, 'American'], [9, 'Cafeteria']]\n",
      "Mexican\n"
     ]
    }
   ],
   "source": [
    "#find consumer preference\n",
    "cons = dfcp['Consumer_ID']\n",
    "pref = dfcp['Preferred_Cuisine']\n",
    "n = len(cons)\n",
    "prefToCons = defaultdict(int)\n",
    "\n",
    "for i in range(n):\n",
    "    prefToCons[pref[i]]+=1\n",
    "\n",
    "print(prefToCons)\n",
    "l = []\n",
    "for k,v in prefToCons.items():\n",
    "    l.append([v,k])\n",
    "l.sort(key=lambda a:0-a[0])\n",
    "print(l[:3])\n",
    "\n",
    "prefFood = l[0][1]\n",
    "print(prefFood)"
   ]
  },
  {
   "cell_type": "code",
   "execution_count": 15,
   "id": "7d8c1e4a-80dc-4b29-862d-68e97f304868",
   "metadata": {},
   "outputs": [
    {
     "name": "stdout",
     "output_type": "stream",
     "text": [
      "defaultdict(<class 'int'>, {'American': 11, 'Mexican': 97, 'Bakery': 3, 'Breakfast': 3, 'Japanese': 7, 'Contemporary': 5, 'Bagels': 2, 'Coffee Shop': 8, 'Continental': 2, 'Cafeteria': 9, 'Family': 8, 'Juice': 3, 'Hawaiian': 2, 'Hot Dogs': 6, 'Latin American': 6, 'Korean': 2, 'Italian': 7, 'Diner': 3, 'Fast Food': 5, 'Deli': 3, 'Regional': 5, 'Fusion': 2, 'Portuguese': 2, 'Indian': 2, 'Eastern European': 2, 'Lebanese': 2, 'Moroccan': 3, 'Barbecue': 3, 'Polynesian': 2, 'Polish': 2, 'Chinese': 6, 'Pizzeria': 9, 'Burgers': 6, 'Afghan': 4, 'Middle Eastern': 2, 'Mongolian': 2, 'Bar': 3, 'Cuban': 2, 'Tex Mex': 3, 'Spanish': 2, 'Soup': 2, 'Sushi': 3, 'Game': 3, 'Doughnuts': 2, 'Australian': 2, 'Asian': 3, 'Ice Cream': 2, 'Seafood': 2, 'Turkish': 2, 'Organic': 1, 'Steaks': 1, 'Mediterranean': 1, 'British': 1, 'Austrian': 1, 'Israeli': 1, 'Russian': 1, 'Malaysian': 1, 'Vegetarian': 1, 'Peruvian': 1, 'Tapas': 1, 'Eclectic': 1, 'African': 1, 'Basque': 1, 'Canadian': 1, 'Irish': 1, 'Southwestern': 1, 'Tea House': 1, 'International': 1, 'Pacific': 2, 'German': 1, 'Persian': 1, 'Ethiopian': 1, 'Romanian': 1, 'Cambodian': 1, 'Tunisian': 1, 'Filipino': 1, 'Dim Sum': 1, 'Greek': 1, 'Thai': 1, 'Swiss': 1, 'Cajun': 1, 'Armenian': 1, 'Indigenous': 1, 'Brewery': 1, 'Caribbean': 1, 'Indonesian': 1, 'Hungarian': 1, 'Dutch': 1, 'Kosher': 1, 'Fine_Dining': 1, 'Jamaican': 1, 'Tibetan': 1, 'Burmese': 1, 'California': 1, 'Scandinavian': 1, 'Chilean': 1, 'North African': 1, 'Vietnamese': 1, 'French': 1, 'Brazilian': 1, 'Southern': 1, nan: 1})\n"
     ]
    }
   ],
   "source": [
    "#find consumer preference\n",
    "cons = dfcp['Consumer_ID']\n",
    "pref = dfcp['Preferred_Cuisine']\n",
    "n = len(cons)\n",
    "prefToCons = defaultdict(int)\n",
    "\n",
    "for i in range(n):\n",
    "    prefToCons[pref[i]]+=1\n",
    "\n",
    "print(prefToCons)"
   ]
  },
  {
   "cell_type": "code",
   "execution_count": 16,
   "id": "8fa40313-2efa-42f3-a73b-7f5b3862e9d9",
   "metadata": {},
   "outputs": [
    {
     "name": "stdout",
     "output_type": "stream",
     "text": [
      "[[97, 'Mexican'], [11, 'American'], [9, 'Cafeteria'], [9, 'Pizzeria'], [8, 'Coffee Shop'], [8, 'Family'], [7, 'Japanese'], [7, 'Italian'], [6, 'Hot Dogs'], [6, 'Latin American']]\n"
     ]
    }
   ],
   "source": [
    "l = []\n",
    "for k,v in prefToCons.items():\n",
    "    l.append([v,k])\n",
    "l.sort(key=lambda a:0-a[0])\n",
    "print(l[:10])"
   ]
  },
  {
   "cell_type": "code",
   "execution_count": 17,
   "id": "7df3ba4a-c0c7-4239-a7e3-2fe8b3eb3f87",
   "metadata": {},
   "outputs": [
    {
     "name": "stdout",
     "output_type": "stream",
     "text": [
      "Mexican\n"
     ]
    }
   ],
   "source": [
    "prefFood = l[0][1]\n",
    "print(prefFood)"
   ]
  },
  {
   "cell_type": "code",
   "execution_count": 18,
   "id": "6272b9fd-6649-472a-9890-f287110c02b2",
   "metadata": {},
   "outputs": [
    {
     "data": {
      "image/png": "[encoded data removed]",
      "text/plain": [
       "<Figure size 432x288 with 1 Axes>"
      ]
     },
     "metadata": {},
     "output_type": "display_data"
    }
   ],
   "source": [
    "city = 'Mexican',  'American', 'Cafeteria', 'Pizzeria', 'Coffee Shop', 'Family', 'Japanese', 'Italian', 'Hot Dogs', 'Latin American'\n",
    "res = [97,11,9,9,8,8,7,7,6,6]\n",
    "plt.pie (res,labels= city,autopct='%1.1f%%')\n",
    "plt.title ('Top Preferred Food ')\n",
    "plt.axis ('equal')\n",
    "plt.show()\n"
   ]
  },
  {
   "cell_type": "code",
   "execution_count": 19,
   "id": "98bf92a6-fe8e-46a8-a196-91b532305bfa",
   "metadata": {},
   "outputs": [
    {
     "name": "stdout",
     "output_type": "stream",
     "text": [
      "checking which  restaurent serves  Mexican\n"
     ]
    }
   ],
   "source": [
    "print(\"checking which  restaurent serves \", prefFood)\n",
    "ids = dfcu['Restauran_ID']\n",
    "cuisine = dfcu['Cuisine']"
   ]
  },
  {
   "cell_type": "code",
   "execution_count": 20,
   "id": "e7765a36-3190-4557-a636-c4f8c1fda716",
   "metadata": {},
   "outputs": [
    {
     "name": "stdout",
     "output_type": "stream",
     "text": [
      "[132665, 132668, 132715, 132723, 132740, 132773, 132825, 134976, 135018]\n"
     ]
    }
   ],
   "source": [
    "n = len(ids)\n",
    "res = []\n",
    "# print(both_rat)\n",
    "for i in range(n):\n",
    "    id = ids[i]\n",
    "    cs = cuisine[i]\n",
    "    if id in both_rat and cs == prefFood:\n",
    "        res.append(id)\n",
    "\n",
    "print(res)"
   ]
  },
  {
   "cell_type": "code",
   "execution_count": 21,
   "id": "c441bb14-1a7f-4b5a-be8b-735af57f9ce5",
   "metadata": {},
   "outputs": [
    {
     "name": "stdout",
     "output_type": "stream",
     "text": [
      "{'Ciudad Victoria': {132665, 132715, 132668, 132740}, 'San Luis Potosi': {132825, 132723}, 'Cuernavaca': {134976, 135018, 132773}}\n"
     ]
    }
   ],
   "source": [
    "reswithCity = {}\n",
    "\n",
    "for city in cityToIDs:\n",
    "    for id in res:\n",
    "        if id in cityToIDs[city]:\n",
    "            if city not in reswithCity:\n",
    "                reswithCity[city] = set()\n",
    "            reswithCity[city].add(id)\n",
    "\n",
    "print(reswithCity)"
   ]
  },
  {
   "cell_type": "code",
   "execution_count": 22,
   "id": "59f02a49-f893-4c80-8063-76f7f2979104",
   "metadata": {},
   "outputs": [],
   "source": [
    "## New Section\n",
    "## Where do consumers live"
   ]
  },
  {
   "cell_type": "code",
   "execution_count": 23,
   "id": "1fb1bf6b-1ae5-4563-a69e-e32588469e81",
   "metadata": {},
   "outputs": [
    {
     "data": {
      "image/png": "[encoded data removed]",
      "text/plain": [
       "<Figure size 432x288 with 1 Axes>"
      ]
     },
     "metadata": {
      "needs_background": "light"
     },
     "output_type": "display_data"
    }
   ],
   "source": [
    "import pandas as pd\n",
    "\n",
    "City = pd.read_csv('C_City.csv')\n",
    "City.head()\n",
    "City.loc[City['Consumer_City'] == 86]\n",
    "ax = City.plot.bar(x='City', y='Consumer_City', rot=0)"
   ]
  },
  {
   "cell_type": "code",
   "execution_count": 24,
   "id": "7449c7ed-046e-4d84-a70a-a2c07b747a98",
   "metadata": {},
   "outputs": [
    {
     "data": {
      "text/html": [
       "<div>\n",
       "<style scoped>\n",
       "    .dataframe tbody tr th:only-of-type {\n",
       "        vertical-align: middle;\n",
       "    }\n",
       "\n",
       "    .dataframe tbody tr th {\n",
       "        vertical-align: top;\n",
       "    }\n",
       "\n",
       "    .dataframe thead th {\n",
       "        text-align: right;\n",
       "    }\n",
       "</style>\n",
       "<table border=\"1\" class=\"dataframe\">\n",
       "  <thead>\n",
       "    <tr style=\"text-align: right;\">\n",
       "      <th></th>\n",
       "      <th>City</th>\n",
       "      <th>Name</th>\n",
       "      <th>Cuisine</th>\n",
       "      <th>Franchise</th>\n",
       "    </tr>\n",
       "  </thead>\n",
       "  <tbody>\n",
       "    <tr>\n",
       "      <th>120</th>\n",
       "      <td>Ciudad Victoria</td>\n",
       "      <td>Carnitas Mata</td>\n",
       "      <td>Mexican</td>\n",
       "      <td>Yes</td>\n",
       "    </tr>\n",
       "    <tr>\n",
       "      <th>121</th>\n",
       "      <td>Ciudad Victoria</td>\n",
       "      <td>Gorditas Doña Tota</td>\n",
       "      <td>Mexican</td>\n",
       "      <td>Yes</td>\n",
       "    </tr>\n",
       "    <tr>\n",
       "      <th>123</th>\n",
       "      <td>Ciudad Victoria</td>\n",
       "      <td>Hamburguesas La Perica</td>\n",
       "      <td>Mexican</td>\n",
       "      <td>Yes</td>\n",
       "    </tr>\n",
       "    <tr>\n",
       "      <th>125</th>\n",
       "      <td>Ciudad Victoria</td>\n",
       "      <td>Gorditas Dona Tota</td>\n",
       "      <td>Mexican</td>\n",
       "      <td>Yes</td>\n",
       "    </tr>\n",
       "    <tr>\n",
       "      <th>133</th>\n",
       "      <td>Ciudad Victoria</td>\n",
       "      <td>Vips</td>\n",
       "      <td>Mexican</td>\n",
       "      <td>Yes</td>\n",
       "    </tr>\n",
       "  </tbody>\n",
       "</table>\n",
       "</div>"
      ],
      "text/plain": [
       "                City                    Name  Cuisine Franchise\n",
       "120  Ciudad Victoria           Carnitas Mata  Mexican       Yes\n",
       "121  Ciudad Victoria      Gorditas Doña Tota  Mexican       Yes\n",
       "123  Ciudad Victoria  Hamburguesas La Perica  Mexican       Yes\n",
       "125  Ciudad Victoria      Gorditas Dona Tota  Mexican       Yes\n",
       "133  Ciudad Victoria                    Vips  Mexican       Yes"
      ]
     },
     "execution_count": 24,
     "metadata": {},
     "output_type": "execute_result"
    }
   ],
   "source": [
    "## Which resturant to open\n",
    "import pandas as pd\n",
    "\n",
    "F_L= pd.read_csv('Franchise.csv')\n",
    "F_L.head()\n",
    "F_L_Mexican=F_L.loc[F_L['Cuisine'] == 'Mexican']\n",
    "F_L_Mexican.loc[F_L_Mexican['Franchise'] == 'Yes']"
   ]
  },
  {
   "cell_type": "code",
   "execution_count": 25,
   "id": "e84eec47-491c-49d0-9423-c8725498260d",
   "metadata": {},
   "outputs": [
    {
     "data": {
      "text/html": [
       "<div>\n",
       "<style scoped>\n",
       "    .dataframe tbody tr th:only-of-type {\n",
       "        vertical-align: middle;\n",
       "    }\n",
       "\n",
       "    .dataframe tbody tr th {\n",
       "        vertical-align: top;\n",
       "    }\n",
       "\n",
       "    .dataframe thead th {\n",
       "        text-align: right;\n",
       "    }\n",
       "</style>\n",
       "<table border=\"1\" class=\"dataframe\">\n",
       "  <thead>\n",
       "    <tr style=\"text-align: right;\">\n",
       "      <th></th>\n",
       "      <th>City</th>\n",
       "      <th>Name</th>\n",
       "      <th>Cuisine</th>\n",
       "      <th>Franchise</th>\n",
       "    </tr>\n",
       "  </thead>\n",
       "  <tbody>\n",
       "    <tr>\n",
       "      <th>13</th>\n",
       "      <td>Cuernavaca</td>\n",
       "      <td>Vips</td>\n",
       "      <td>NaN</td>\n",
       "      <td>Yes</td>\n",
       "    </tr>\n",
       "    <tr>\n",
       "      <th>36</th>\n",
       "      <td>San Luis Potosi</td>\n",
       "      <td>Vips</td>\n",
       "      <td>American</td>\n",
       "      <td>No</td>\n",
       "    </tr>\n",
       "    <tr>\n",
       "      <th>133</th>\n",
       "      <td>Ciudad Victoria</td>\n",
       "      <td>Vips</td>\n",
       "      <td>Mexican</td>\n",
       "      <td>Yes</td>\n",
       "    </tr>\n",
       "  </tbody>\n",
       "</table>\n",
       "</div>"
      ],
      "text/plain": [
       "                City  Name   Cuisine Franchise\n",
       "13        Cuernavaca  Vips       NaN       Yes\n",
       "36   San Luis Potosi  Vips  American        No\n",
       "133  Ciudad Victoria  Vips   Mexican       Yes"
      ]
     },
     "execution_count": 25,
     "metadata": {},
     "output_type": "execute_result"
    }
   ],
   "source": [
    "F_L.loc[F_L['Name'] == 'Vips']"
   ]
  },
  {
   "cell_type": "code",
   "execution_count": 26,
   "id": "fc12eca3-edfa-402d-8153-e5950f7259fe",
   "metadata": {},
   "outputs": [
    {
     "data": {
      "text/html": [
       "<div>\n",
       "<style scoped>\n",
       "    .dataframe tbody tr th:only-of-type {\n",
       "        vertical-align: middle;\n",
       "    }\n",
       "\n",
       "    .dataframe tbody tr th {\n",
       "        vertical-align: top;\n",
       "    }\n",
       "\n",
       "    .dataframe thead th {\n",
       "        text-align: right;\n",
       "    }\n",
       "</style>\n",
       "<table border=\"1\" class=\"dataframe\">\n",
       "  <thead>\n",
       "    <tr style=\"text-align: right;\">\n",
       "      <th></th>\n",
       "      <th>City</th>\n",
       "      <th>Name</th>\n",
       "      <th>Cuisine</th>\n",
       "      <th>Franchise</th>\n",
       "    </tr>\n",
       "  </thead>\n",
       "  <tbody>\n",
       "    <tr>\n",
       "      <th>120</th>\n",
       "      <td>Ciudad Victoria</td>\n",
       "      <td>Carnitas Mata</td>\n",
       "      <td>Mexican</td>\n",
       "      <td>Yes</td>\n",
       "    </tr>\n",
       "    <tr>\n",
       "      <th>121</th>\n",
       "      <td>Ciudad Victoria</td>\n",
       "      <td>Gorditas Doña Tota</td>\n",
       "      <td>Mexican</td>\n",
       "      <td>Yes</td>\n",
       "    </tr>\n",
       "    <tr>\n",
       "      <th>123</th>\n",
       "      <td>Ciudad Victoria</td>\n",
       "      <td>Hamburguesas La Perica</td>\n",
       "      <td>Mexican</td>\n",
       "      <td>Yes</td>\n",
       "    </tr>\n",
       "    <tr>\n",
       "      <th>125</th>\n",
       "      <td>Ciudad Victoria</td>\n",
       "      <td>Gorditas Dona Tota</td>\n",
       "      <td>Mexican</td>\n",
       "      <td>Yes</td>\n",
       "    </tr>\n",
       "  </tbody>\n",
       "</table>\n",
       "</div>"
      ],
      "text/plain": [
       "                City                    Name  Cuisine Franchise\n",
       "120  Ciudad Victoria           Carnitas Mata  Mexican       Yes\n",
       "121  Ciudad Victoria      Gorditas Doña Tota  Mexican       Yes\n",
       "123  Ciudad Victoria  Hamburguesas La Perica  Mexican       Yes\n",
       "125  Ciudad Victoria      Gorditas Dona Tota  Mexican       Yes"
      ]
     },
     "execution_count": 26,
     "metadata": {},
     "output_type": "execute_result"
    }
   ],
   "source": [
    "New= F_L_Mexican.loc[F_L_Mexican['Franchise'] == 'Yes']\n",
    "New.drop(133).head()"
   ]
  },
  {
   "cell_type": "code",
   "execution_count": 27,
   "id": "cfe755f2-0c6c-4fd8-bc58-a7bb1b42cf9c",
   "metadata": {},
   "outputs": [
    {
     "data": {
      "text/plain": [
       "Grouped(Consumer_ID)            97\n",
       "Preferred_Cuisine       Vietnamese\n",
       "dtype: object"
      ]
     },
     "execution_count": 27,
     "metadata": {},
     "output_type": "execute_result"
    }
   ],
   "source": [
    "### Consumer food Prefrence \n",
    "import pandas as pd\n",
    "\n",
    "Consumer_Pref = pd.read_csv('Prefered_Cuisine.csv')\n",
    "Consumer_Pref.head()\n",
    "Consumer_Pref.max()"
   ]
  },
  {
   "cell_type": "code",
   "execution_count": 28,
   "id": "c11fbad6-8a23-45d3-858e-58bb9cb506e4",
   "metadata": {},
   "outputs": [
    {
     "data": {
      "text/html": [
       "<div>\n",
       "<style scoped>\n",
       "    .dataframe tbody tr th:only-of-type {\n",
       "        vertical-align: middle;\n",
       "    }\n",
       "\n",
       "    .dataframe tbody tr th {\n",
       "        vertical-align: top;\n",
       "    }\n",
       "\n",
       "    .dataframe thead th {\n",
       "        text-align: right;\n",
       "    }\n",
       "</style>\n",
       "<table border=\"1\" class=\"dataframe\">\n",
       "  <thead>\n",
       "    <tr style=\"text-align: right;\">\n",
       "      <th></th>\n",
       "      <th>Grouped(Consumer_ID)</th>\n",
       "      <th>Preferred_Cuisine</th>\n",
       "    </tr>\n",
       "  </thead>\n",
       "  <tbody>\n",
       "    <tr>\n",
       "      <th>67</th>\n",
       "      <td>97</td>\n",
       "      <td>Mexican</td>\n",
       "    </tr>\n",
       "  </tbody>\n",
       "</table>\n",
       "</div>"
      ],
      "text/plain": [
       "    Grouped(Consumer_ID) Preferred_Cuisine\n",
       "67                    97           Mexican"
      ]
     },
     "execution_count": 28,
     "metadata": {},
     "output_type": "execute_result"
    }
   ],
   "source": [
    "Consumer_Pref.loc[Consumer_Pref['Grouped(Consumer_ID)'] == 97]"
   ]
  },
  {
   "cell_type": "code",
   "execution_count": 29,
   "id": "e4e2c4f9-637e-42f1-92a6-7397cff07277",
   "metadata": {},
   "outputs": [
    {
     "data": {
      "image/png": "[encoded data removed]",
      "text/plain": [
       "<Figure size 432x288 with 1 Axes>"
      ]
     },
     "metadata": {
      "needs_background": "light"
     },
     "output_type": "display_data"
    }
   ],
   "source": [
    "plot = Consumer_Pref.plot.bar(x ='Preferred_Cuisine' , y ='Grouped(Consumer_ID)')"
   ]
  },
  {
   "cell_type": "code",
   "execution_count": 30,
   "id": "382f4662-f59c-41fa-8b43-06dc38835953",
   "metadata": {},
   "outputs": [
    {
     "data": {
      "text/html": [
       "<div>\n",
       "<style scoped>\n",
       "    .dataframe tbody tr th:only-of-type {\n",
       "        vertical-align: middle;\n",
       "    }\n",
       "\n",
       "    .dataframe tbody tr th {\n",
       "        vertical-align: top;\n",
       "    }\n",
       "\n",
       "    .dataframe thead th {\n",
       "        text-align: right;\n",
       "    }\n",
       "</style>\n",
       "<table border=\"1\" class=\"dataframe\">\n",
       "  <thead>\n",
       "    <tr style=\"text-align: right;\">\n",
       "      <th></th>\n",
       "      <th>#_of_Resturant</th>\n",
       "      <th>City</th>\n",
       "    </tr>\n",
       "  </thead>\n",
       "  <tbody>\n",
       "    <tr>\n",
       "      <th>0</th>\n",
       "      <td>23</td>\n",
       "      <td>Ciudad Victoria</td>\n",
       "    </tr>\n",
       "    <tr>\n",
       "      <th>1</th>\n",
       "      <td>21</td>\n",
       "      <td>Cuernavaca</td>\n",
       "    </tr>\n",
       "    <tr>\n",
       "      <th>2</th>\n",
       "      <td>2</td>\n",
       "      <td>Jiutepec</td>\n",
       "    </tr>\n",
       "    <tr>\n",
       "      <th>3</th>\n",
       "      <td>84</td>\n",
       "      <td>San Luis Potosi</td>\n",
       "    </tr>\n",
       "  </tbody>\n",
       "</table>\n",
       "</div>"
      ],
      "text/plain": [
       "   #_of_Resturant             City\n",
       "0              23  Ciudad Victoria\n",
       "1              21       Cuernavaca\n",
       "2               2         Jiutepec\n",
       "3              84  San Luis Potosi"
      ]
     },
     "execution_count": 30,
     "metadata": {},
     "output_type": "execute_result"
    }
   ],
   "source": [
    "## Where is the restuarant scene \n",
    "import pandas as pd\n",
    "R_L = pd.read_csv('R_City.csv')\n",
    "R_L.head()"
   ]
  },
  {
   "cell_type": "code",
   "execution_count": 31,
   "id": "2b8ccc31-44dd-4323-8ba4-e0cc6612e467",
   "metadata": {},
   "outputs": [
    {
     "data": {
      "image/png": "[encoded data removed]",
      "text/plain": [
       "<Figure size 432x288 with 1 Axes>"
      ]
     },
     "metadata": {
      "needs_background": "light"
     },
     "output_type": "display_data"
    }
   ],
   "source": [
    "ax = R_L.plot.bar(x='City', y='#_of_Resturant', rot=0)"
   ]
  },
  {
   "cell_type": "code",
   "execution_count": 32,
   "id": "e99ff063-d81e-42bc-96c2-d628f788cfd7",
   "metadata": {},
   "outputs": [
    {
     "name": "stdout",
     "output_type": "stream",
     "text": [
      "'bolt_head': hello Master Chief\n",
      "'bolt_head': how may I assist you today\n"
     ]
    }
   ],
   "source": [
    "programmer = \"Master Chief\" \n",
    "iva_name= \"'bolt_head':\"\n",
    "print (iva_name+ \" hello \" + programmer)\n",
    "print (iva_name+ \" how may I assist you today\")"
   ]
  },
  {
   "cell_type": "code",
   "execution_count": 33,
   "id": "2629567c-3f60-4518-8b3e-b96ae9f86ddd",
   "metadata": {},
   "outputs": [
    {
     "name": "stdin",
     "output_type": "stream",
     "text": [
      "Enter a noun:  res\n",
      "Enter the location:  mexic \n"
     ]
    },
    {
     "name": "stdout",
     "output_type": "stream",
     "text": [
      " i am an aspiring res looking to open up a resturant in mexic \n"
     ]
    }
   ],
   "source": [
    "noun = input(\"Enter a noun: \")\n",
    "location = input(\"Enter the location: \")\n",
    "print (\" i am an aspiring \" + noun, \"looking to open up a resturant in \" + location)"
   ]
  },
  {
   "cell_type": "code",
   "execution_count": 34,
   "id": "7c62b6a5-18bb-47c4-9948-adc29d087c5f",
   "metadata": {},
   "outputs": [
    {
     "name": "stdout",
     "output_type": "stream",
     "text": [
      "'bolt_head': one second Master Chief I'll import the data\n"
     ]
    }
   ],
   "source": [
    "print (iva_name+ \" one second \" + programmer+ \" I'll import the data\")"
   ]
  },
  {
   "cell_type": "code",
   "execution_count": 36,
   "id": "41f0ec9f-f06b-456e-93e6-b8cf0254ace3",
   "metadata": {},
   "outputs": [],
   "source": [
    "import pandas as pd\n",
    "dfr= pd.read_csv('restaurant.csv')\n",
    "dfc= pd.read_csv('consumer.csv')\n",
    "dfcu= pd.read_csv('cuisines.csv')\n",
    "dfra= pd.read_csv('ratings.csv')\n",
    "dfcp= pd.read_csv('consumerpref.csv')"
   ]
  },
  {
   "cell_type": "code",
   "execution_count": 37,
   "id": "8d25bf22-6ef4-4a29-89c3-34d14e69a19d",
   "metadata": {},
   "outputs": [
    {
     "name": "stdout",
     "output_type": "stream",
     "text": [
      "'bolt_head': Master Chief, i have searched my database and i've retreived intel on restaurants in Mexico in real time.\n",
      "shall we take a look\n"
     ]
    }
   ],
   "source": [
    "print (iva_name +\" \"+  programmer + \", i have searched my database and i've retreived intel on restaurants in Mexico in real time.\")\n",
    "print(\"shall we take a look\")"
   ]
  },
  {
   "cell_type": "code",
   "execution_count": 38,
   "id": "eb5fd017-00ec-470f-b057-47df23377b4a",
   "metadata": {},
   "outputs": [
    {
     "name": "stdin",
     "output_type": "stream",
     "text": [
      "'bolt_head': Master Chief would you like me to show you the relations of the data? y/n?  y\n"
     ]
    },
    {
     "name": "stdout",
     "output_type": "stream",
     "text": [
      "(130, 14) (138, 14) (112, 2) (1161, 5) (331, 2)\n"
     ]
    }
   ],
   "source": [
    "data= input(iva_name +\" \"+programmer +\" would you like me to show you the relations of the data? y/n? \")\n",
    "\n",
    "if data== 'y':\n",
    "    print (dfr.shape,\n",
    "            dfc.shape,\n",
    "          dfcu.shape,\n",
    "          dfra.shape,\n",
    "          dfcp.shape)\n",
    "if data== 'n':\n",
    "    print (iva_name+ \" time is money \" + programmer + \", i'll show it to you anyway\")\n",
    "    print (dfr.shape,\n",
    "           dfc.shape,\n",
    "           dfcu.shape,\n",
    "           dfra.shape,\n",
    "           dfcp.shape,)"
   ]
  },
  {
   "cell_type": "code",
   "execution_count": 39,
   "id": "6f588499-347f-47df-b472-6602a22e1636",
   "metadata": {},
   "outputs": [
    {
     "name": "stdout",
     "output_type": "stream",
     "text": [
      "'bolt_head': we have quite a ton of data to dissect, lets begin!\n"
     ]
    }
   ],
   "source": [
    "print (iva_name + \" we have quite a ton of data to dissect, lets begin!\")"
   ]
  },
  {
   "cell_type": "code",
   "execution_count": 40,
   "id": "10d5cbe6-50e5-4237-8602-8a9b6e21b553",
   "metadata": {},
   "outputs": [
    {
     "name": "stdout",
     "output_type": "stream",
     "text": [
      "'bolt_head': we have quite a ton of data to dissect, lets begin!\n"
     ]
    }
   ],
   "source": [
    "print (iva_name + \" we have quite a ton of data to dissect, lets begin!\")"
   ]
  },
  {
   "cell_type": "code",
   "execution_count": 41,
   "id": "7af24c3d-4194-43e2-be66-b09434d1924f",
   "metadata": {},
   "outputs": [
    {
     "data": {
      "text/plain": [
       "Restaurant_ID        0\n",
       "Name                 0\n",
       "City                 0\n",
       "State                0\n",
       "Country              0\n",
       "Zip_code            74\n",
       "Latitude             0\n",
       "Longitude            0\n",
       "Alcohol_service      0\n",
       "Smoking_Allowed      0\n",
       "Price                0\n",
       "Franchise            0\n",
       "Area                 0\n",
       "Parking              0\n",
       "dtype: int64"
      ]
     },
     "execution_count": 41,
     "metadata": {},
     "output_type": "execute_result"
    }
   ],
   "source": [
    "dfr.isnull().sum()"
   ]
  },
  {
   "cell_type": "code",
   "execution_count": 42,
   "id": "380a494b-4a82-4d89-ad7b-37c95966e22d",
   "metadata": {},
   "outputs": [
    {
     "data": {
      "text/html": [
       "<div>\n",
       "<style scoped>\n",
       "    .dataframe tbody tr th:only-of-type {\n",
       "        vertical-align: middle;\n",
       "    }\n",
       "\n",
       "    .dataframe tbody tr th {\n",
       "        vertical-align: top;\n",
       "    }\n",
       "\n",
       "    .dataframe thead th {\n",
       "        text-align: right;\n",
       "    }\n",
       "</style>\n",
       "<table border=\"1\" class=\"dataframe\">\n",
       "  <thead>\n",
       "    <tr style=\"text-align: right;\">\n",
       "      <th></th>\n",
       "      <th>Restaurant_ID</th>\n",
       "      <th>Name</th>\n",
       "      <th>City</th>\n",
       "      <th>State</th>\n",
       "      <th>Country</th>\n",
       "      <th>Zip_code</th>\n",
       "      <th>Latitude</th>\n",
       "      <th>Longitude</th>\n",
       "      <th>Alcohol_service</th>\n",
       "      <th>Smoking_Allowed</th>\n",
       "      <th>Price</th>\n",
       "      <th>Franchise</th>\n",
       "      <th>Area</th>\n",
       "      <th>Parking</th>\n",
       "    </tr>\n",
       "  </thead>\n",
       "  <tbody>\n",
       "    <tr>\n",
       "      <th>0</th>\n",
       "      <td>132560</td>\n",
       "      <td>Puesto de Gorditas</td>\n",
       "      <td>Ciudad Victoria</td>\n",
       "      <td>Tamaulipas</td>\n",
       "      <td>Mexico</td>\n",
       "      <td>NaN</td>\n",
       "      <td>23.752304</td>\n",
       "      <td>-99.166913</td>\n",
       "      <td>None</td>\n",
       "      <td>Yes</td>\n",
       "      <td>Low</td>\n",
       "      <td>No</td>\n",
       "      <td>Open</td>\n",
       "      <td>Public</td>\n",
       "    </tr>\n",
       "    <tr>\n",
       "      <th>1</th>\n",
       "      <td>132561</td>\n",
       "      <td>Cafe Ambar</td>\n",
       "      <td>Ciudad Victoria</td>\n",
       "      <td>Tamaulipas</td>\n",
       "      <td>Mexico</td>\n",
       "      <td>NaN</td>\n",
       "      <td>23.726819</td>\n",
       "      <td>-99.126506</td>\n",
       "      <td>None</td>\n",
       "      <td>No</td>\n",
       "      <td>Low</td>\n",
       "      <td>No</td>\n",
       "      <td>Closed</td>\n",
       "      <td>None</td>\n",
       "    </tr>\n",
       "    <tr>\n",
       "      <th>2</th>\n",
       "      <td>132564</td>\n",
       "      <td>Church's</td>\n",
       "      <td>Ciudad Victoria</td>\n",
       "      <td>Tamaulipas</td>\n",
       "      <td>Mexico</td>\n",
       "      <td>NaN</td>\n",
       "      <td>23.730925</td>\n",
       "      <td>-99.145185</td>\n",
       "      <td>None</td>\n",
       "      <td>No</td>\n",
       "      <td>Low</td>\n",
       "      <td>No</td>\n",
       "      <td>Closed</td>\n",
       "      <td>None</td>\n",
       "    </tr>\n",
       "    <tr>\n",
       "      <th>3</th>\n",
       "      <td>132572</td>\n",
       "      <td>Cafe Chaires</td>\n",
       "      <td>San Luis Potosi</td>\n",
       "      <td>San Luis Potosi</td>\n",
       "      <td>Mexico</td>\n",
       "      <td>NaN</td>\n",
       "      <td>22.141647</td>\n",
       "      <td>-100.992712</td>\n",
       "      <td>None</td>\n",
       "      <td>No</td>\n",
       "      <td>Low</td>\n",
       "      <td>No</td>\n",
       "      <td>Closed</td>\n",
       "      <td>Yes</td>\n",
       "    </tr>\n",
       "    <tr>\n",
       "      <th>4</th>\n",
       "      <td>132583</td>\n",
       "      <td>McDonalds Centro</td>\n",
       "      <td>Cuernavaca</td>\n",
       "      <td>Morelos</td>\n",
       "      <td>Mexico</td>\n",
       "      <td>62000.0</td>\n",
       "      <td>18.922290</td>\n",
       "      <td>-99.234332</td>\n",
       "      <td>None</td>\n",
       "      <td>No</td>\n",
       "      <td>Low</td>\n",
       "      <td>Yes</td>\n",
       "      <td>Closed</td>\n",
       "      <td>None</td>\n",
       "    </tr>\n",
       "    <tr>\n",
       "      <th>5</th>\n",
       "      <td>132584</td>\n",
       "      <td>Gorditas Do?a Tota</td>\n",
       "      <td>Ciudad Victoria</td>\n",
       "      <td>Tamaulipas</td>\n",
       "      <td>Mexico</td>\n",
       "      <td>NaN</td>\n",
       "      <td>23.752365</td>\n",
       "      <td>-99.165288</td>\n",
       "      <td>None</td>\n",
       "      <td>No</td>\n",
       "      <td>Medium</td>\n",
       "      <td>Yes</td>\n",
       "      <td>Closed</td>\n",
       "      <td>Yes</td>\n",
       "    </tr>\n",
       "    <tr>\n",
       "      <th>6</th>\n",
       "      <td>132594</td>\n",
       "      <td>Tacos De Barbacoa Enfrente Del Tec</td>\n",
       "      <td>Ciudad Victoria</td>\n",
       "      <td>Tamaulipas</td>\n",
       "      <td>Mexico</td>\n",
       "      <td>NaN</td>\n",
       "      <td>23.752168</td>\n",
       "      <td>-99.165709</td>\n",
       "      <td>None</td>\n",
       "      <td>No</td>\n",
       "      <td>Low</td>\n",
       "      <td>No</td>\n",
       "      <td>Open</td>\n",
       "      <td>Public</td>\n",
       "    </tr>\n",
       "    <tr>\n",
       "      <th>7</th>\n",
       "      <td>132608</td>\n",
       "      <td>Hamburguesas La Perica</td>\n",
       "      <td>Ciudad Victoria</td>\n",
       "      <td>Tamaulipas</td>\n",
       "      <td>Mexico</td>\n",
       "      <td>NaN</td>\n",
       "      <td>23.758805</td>\n",
       "      <td>-99.165130</td>\n",
       "      <td>None</td>\n",
       "      <td>Yes</td>\n",
       "      <td>Low</td>\n",
       "      <td>Yes</td>\n",
       "      <td>Open</td>\n",
       "      <td>Public</td>\n",
       "    </tr>\n",
       "    <tr>\n",
       "      <th>8</th>\n",
       "      <td>132609</td>\n",
       "      <td>Pollo Frito Buenos Aires</td>\n",
       "      <td>Ciudad Victoria</td>\n",
       "      <td>Tamaulipas</td>\n",
       "      <td>Mexico</td>\n",
       "      <td>NaN</td>\n",
       "      <td>23.760268</td>\n",
       "      <td>-99.165865</td>\n",
       "      <td>None</td>\n",
       "      <td>No</td>\n",
       "      <td>Low</td>\n",
       "      <td>Yes</td>\n",
       "      <td>Closed</td>\n",
       "      <td>Yes</td>\n",
       "    </tr>\n",
       "    <tr>\n",
       "      <th>9</th>\n",
       "      <td>132613</td>\n",
       "      <td>Carnitas Mata</td>\n",
       "      <td>Ciudad Victoria</td>\n",
       "      <td>Tamaulipas</td>\n",
       "      <td>Mexico</td>\n",
       "      <td>NaN</td>\n",
       "      <td>23.752903</td>\n",
       "      <td>-99.165076</td>\n",
       "      <td>None</td>\n",
       "      <td>Yes</td>\n",
       "      <td>Medium</td>\n",
       "      <td>Yes</td>\n",
       "      <td>Closed</td>\n",
       "      <td>Yes</td>\n",
       "    </tr>\n",
       "    <tr>\n",
       "      <th>10</th>\n",
       "      <td>132626</td>\n",
       "      <td>La Perica Hamburguesa</td>\n",
       "      <td>Ciudad Victoria</td>\n",
       "      <td>Tamaulipas</td>\n",
       "      <td>Mexico</td>\n",
       "      <td>NaN</td>\n",
       "      <td>23.737583</td>\n",
       "      <td>-99.135132</td>\n",
       "      <td>None</td>\n",
       "      <td>No</td>\n",
       "      <td>Medium</td>\n",
       "      <td>Yes</td>\n",
       "      <td>Closed</td>\n",
       "      <td>Yes</td>\n",
       "    </tr>\n",
       "    <tr>\n",
       "      <th>11</th>\n",
       "      <td>132630</td>\n",
       "      <td>Palomo Tec</td>\n",
       "      <td>Ciudad Victoria</td>\n",
       "      <td>Tamaulipas</td>\n",
       "      <td>Mexico</td>\n",
       "      <td>NaN</td>\n",
       "      <td>23.752931</td>\n",
       "      <td>-99.164473</td>\n",
       "      <td>None</td>\n",
       "      <td>No</td>\n",
       "      <td>Low</td>\n",
       "      <td>No</td>\n",
       "      <td>Closed</td>\n",
       "      <td>None</td>\n",
       "    </tr>\n",
       "    <tr>\n",
       "      <th>12</th>\n",
       "      <td>132654</td>\n",
       "      <td>Carnitas Mata  Calle 16 de Septiembre</td>\n",
       "      <td>Ciudad Victoria</td>\n",
       "      <td>Tamaulipas</td>\n",
       "      <td>Mexico</td>\n",
       "      <td>NaN</td>\n",
       "      <td>23.735523</td>\n",
       "      <td>-99.129588</td>\n",
       "      <td>None</td>\n",
       "      <td>No</td>\n",
       "      <td>Low</td>\n",
       "      <td>No</td>\n",
       "      <td>Closed</td>\n",
       "      <td>None</td>\n",
       "    </tr>\n",
       "    <tr>\n",
       "      <th>13</th>\n",
       "      <td>132660</td>\n",
       "      <td>Carnitas Mata Calle Emilio Portes Gil</td>\n",
       "      <td>Ciudad Victoria</td>\n",
       "      <td>Tamaulipas</td>\n",
       "      <td>Mexico</td>\n",
       "      <td>NaN</td>\n",
       "      <td>23.752943</td>\n",
       "      <td>-99.164679</td>\n",
       "      <td>None</td>\n",
       "      <td>No</td>\n",
       "      <td>Low</td>\n",
       "      <td>No</td>\n",
       "      <td>Closed</td>\n",
       "      <td>None</td>\n",
       "    </tr>\n",
       "    <tr>\n",
       "      <th>14</th>\n",
       "      <td>132663</td>\n",
       "      <td>Tacos Abi</td>\n",
       "      <td>Ciudad Victoria</td>\n",
       "      <td>Tamaulipas</td>\n",
       "      <td>Mexico</td>\n",
       "      <td>NaN</td>\n",
       "      <td>23.752511</td>\n",
       "      <td>-99.166954</td>\n",
       "      <td>None</td>\n",
       "      <td>No</td>\n",
       "      <td>Low</td>\n",
       "      <td>No</td>\n",
       "      <td>Closed</td>\n",
       "      <td>None</td>\n",
       "    </tr>\n",
       "  </tbody>\n",
       "</table>\n",
       "</div>"
      ],
      "text/plain": [
       "    Restaurant_ID                                   Name             City  \\\n",
       "0          132560                     Puesto de Gorditas  Ciudad Victoria   \n",
       "1          132561                             Cafe Ambar  Ciudad Victoria   \n",
       "2          132564                               Church's  Ciudad Victoria   \n",
       "3          132572                           Cafe Chaires  San Luis Potosi   \n",
       "4          132583                       McDonalds Centro       Cuernavaca   \n",
       "5          132584                     Gorditas Do?a Tota  Ciudad Victoria   \n",
       "6          132594     Tacos De Barbacoa Enfrente Del Tec  Ciudad Victoria   \n",
       "7          132608                 Hamburguesas La Perica  Ciudad Victoria   \n",
       "8          132609               Pollo Frito Buenos Aires  Ciudad Victoria   \n",
       "9          132613                          Carnitas Mata  Ciudad Victoria   \n",
       "10         132626                  La Perica Hamburguesa  Ciudad Victoria   \n",
       "11         132630                             Palomo Tec  Ciudad Victoria   \n",
       "12         132654  Carnitas Mata  Calle 16 de Septiembre  Ciudad Victoria   \n",
       "13         132660  Carnitas Mata Calle Emilio Portes Gil  Ciudad Victoria   \n",
       "14         132663                              Tacos Abi  Ciudad Victoria   \n",
       "\n",
       "              State Country  Zip_code   Latitude   Longitude Alcohol_service   \\\n",
       "0        Tamaulipas  Mexico       NaN  23.752304  -99.166913             None   \n",
       "1        Tamaulipas  Mexico       NaN  23.726819  -99.126506             None   \n",
       "2        Tamaulipas  Mexico       NaN  23.730925  -99.145185             None   \n",
       "3   San Luis Potosi  Mexico       NaN  22.141647 -100.992712             None   \n",
       "4           Morelos  Mexico   62000.0  18.922290  -99.234332             None   \n",
       "5        Tamaulipas  Mexico       NaN  23.752365  -99.165288             None   \n",
       "6        Tamaulipas  Mexico       NaN  23.752168  -99.165709             None   \n",
       "7        Tamaulipas  Mexico       NaN  23.758805  -99.165130             None   \n",
       "8        Tamaulipas  Mexico       NaN  23.760268  -99.165865             None   \n",
       "9        Tamaulipas  Mexico       NaN  23.752903  -99.165076             None   \n",
       "10       Tamaulipas  Mexico       NaN  23.737583  -99.135132             None   \n",
       "11       Tamaulipas  Mexico       NaN  23.752931  -99.164473             None   \n",
       "12       Tamaulipas  Mexico       NaN  23.735523  -99.129588             None   \n",
       "13       Tamaulipas  Mexico       NaN  23.752943  -99.164679             None   \n",
       "14       Tamaulipas  Mexico       NaN  23.752511  -99.166954             None   \n",
       "\n",
       "   Smoking_Allowed   Price Franchise    Area Parking  \n",
       "0              Yes     Low        No    Open  Public  \n",
       "1               No     Low        No  Closed    None  \n",
       "2               No     Low        No  Closed    None  \n",
       "3               No     Low        No  Closed     Yes  \n",
       "4               No     Low       Yes  Closed    None  \n",
       "5               No  Medium       Yes  Closed     Yes  \n",
       "6               No     Low        No    Open  Public  \n",
       "7              Yes     Low       Yes    Open  Public  \n",
       "8               No     Low       Yes  Closed     Yes  \n",
       "9              Yes  Medium       Yes  Closed     Yes  \n",
       "10              No  Medium       Yes  Closed     Yes  \n",
       "11              No     Low        No  Closed    None  \n",
       "12              No     Low        No  Closed    None  \n",
       "13              No     Low        No  Closed    None  \n",
       "14              No     Low        No  Closed    None  "
      ]
     },
     "execution_count": 42,
     "metadata": {},
     "output_type": "execute_result"
    }
   ],
   "source": [
    "dfr.head(15)"
   ]
  },
  {
   "cell_type": "code",
   "execution_count": 43,
   "id": "b108f0a8-29a0-4ed7-96a1-caeaf6a1809f",
   "metadata": {},
   "outputs": [
    {
     "name": "stdout",
     "output_type": "stream",
     "text": [
      "'bolt_head': Master Chief we have 74 missing values for zipcode, this is not an issue because we have      longitude and latitude so this doesnt affect out data one bit.\n"
     ]
    }
   ],
   "source": [
    "print (iva_name+\" \"+ programmer + \" we have 74 missing values for zipcode, this is not an issue because we have      longitude and latitude so this doesnt affect out data one bit.\")"
   ]
  },
  {
   "cell_type": "code",
   "execution_count": 44,
   "id": "f136de30-4a5f-4337-ae9b-8645d5eff5db",
   "metadata": {},
   "outputs": [
    {
     "data": {
      "text/plain": [
       "Consumer_ID               0\n",
       "City                      0\n",
       "State                     0\n",
       "Country                   0\n",
       "Latitude                  0\n",
       "Longitude                 0\n",
       "Smoker                    3\n",
       "Drink_Level               0\n",
       "Transportation_Method     7\n",
       "Marital_Status            4\n",
       "Childern                 11\n",
       "Age                       0\n",
       "Occupation                7\n",
       "Budget                    7\n",
       "dtype: int64"
      ]
     },
     "execution_count": 44,
     "metadata": {},
     "output_type": "execute_result"
    }
   ],
   "source": [
    "dfc.isnull().sum()"
   ]
  },
  {
   "cell_type": "code",
   "execution_count": 45,
   "id": "d715db11-59e9-4793-8e9a-5b62e07b3110",
   "metadata": {},
   "outputs": [
    {
     "data": {
      "text/plain": [
       "Consumer_ID               0\n",
       "City                      0\n",
       "State                     0\n",
       "Country                   0\n",
       "Latitude                  0\n",
       "Longitude                 0\n",
       "Smoker                    3\n",
       "Drink_Level               0\n",
       "Transportation_Method     7\n",
       "Marital_Status            4\n",
       "Childern                 11\n",
       "Age                       0\n",
       "Occupation                7\n",
       "Budget                    7\n",
       "dtype: int64"
      ]
     },
     "execution_count": 45,
     "metadata": {},
     "output_type": "execute_result"
    }
   ],
   "source": [
    "dfc.isnull().sum()"
   ]
  },
  {
   "cell_type": "code",
   "execution_count": 46,
   "id": "81e23f5f-4c9c-4b40-accd-fe57e560ee29",
   "metadata": {},
   "outputs": [
    {
     "name": "stdin",
     "output_type": "stream",
     "text": [
      "'bolt_head':would you like to drop the null values? y/n? y\n"
     ]
    }
   ],
   "source": [
    "proceed= input(iva_name+ \"would you like to drop the null values? y/n?\")\n",
    "if proceed == 'y':\n",
    "            dfc=dfc.dropna(how= 'any')\n",
    "  "
   ]
  },
  {
   "cell_type": "code",
   "execution_count": 47,
   "id": "98ceddcc-b985-419a-83ea-8a8ddb9d8ba3",
   "metadata": {},
   "outputs": [
    {
     "name": "stdout",
     "output_type": "stream",
     "text": [
      "'bolt_head': no problem i wont Master Chief\n"
     ]
    }
   ],
   "source": [
    "print (iva_name+\" no problem i wont \" +programmer)"
   ]
  },
  {
   "cell_type": "code",
   "execution_count": 48,
   "id": "4bd71af8-508c-4f14-ab13-879fef11a0de",
   "metadata": {},
   "outputs": [
    {
     "data": {
      "text/plain": [
       "Restauran_ID    0\n",
       "Cuisine         0\n",
       "dtype: int64"
      ]
     },
     "execution_count": 48,
     "metadata": {},
     "output_type": "execute_result"
    }
   ],
   "source": [
    "dfcu.isnull().sum()"
   ]
  },
  {
   "cell_type": "code",
   "execution_count": 49,
   "id": "aa3264ab-9082-4de5-a3cc-d7a673aa500f",
   "metadata": {},
   "outputs": [
    {
     "data": {
      "text/plain": [
       "Consumer_ID       0\n",
       "Restaurant_ID     0\n",
       "Overall_Rating    0\n",
       "Food_Rating       0\n",
       "Service_Rating    0\n",
       "dtype: int64"
      ]
     },
     "execution_count": 49,
     "metadata": {},
     "output_type": "execute_result"
    }
   ],
   "source": [
    "dfra.isnull().sum()"
   ]
  },
  {
   "cell_type": "code",
   "execution_count": 50,
   "id": "71f5978b-24e2-4869-848e-8f6a45a489fa",
   "metadata": {},
   "outputs": [
    {
     "data": {
      "text/plain": [
       "Consumer_ID          0\n",
       "Preferred_Cuisine    1\n",
       "dtype: int64"
      ]
     },
     "execution_count": 50,
     "metadata": {},
     "output_type": "execute_result"
    }
   ],
   "source": [
    "dfcp.isnull().sum()"
   ]
  },
  {
   "cell_type": "code",
   "execution_count": 51,
   "id": "85d9fe5f-5b28-4c6b-ac35-553f0eca5a42",
   "metadata": {},
   "outputs": [
    {
     "name": "stdout",
     "output_type": "stream",
     "text": [
      "'bolt_head': Master Chief, i am searching each database for key duplicates like, resturant_id, consumer_id, \n"
     ]
    }
   ],
   "source": [
    "print (iva_name+\" \"+ programmer+ \", i am searching each database for key duplicates like, resturant_id, consumer_id, \")"
   ]
  },
  {
   "cell_type": "code",
   "execution_count": 52,
   "id": "c2909fe4-e63e-4723-abcd-3a3c04f73845",
   "metadata": {},
   "outputs": [
    {
     "data": {
      "text/plain": [
       "0"
      ]
     },
     "execution_count": 52,
     "metadata": {},
     "output_type": "execute_result"
    }
   ],
   "source": [
    "dfc['Consumer_ID'].duplicated().sum()"
   ]
  },
  {
   "cell_type": "code",
   "execution_count": 53,
   "id": "b07e87a6-5432-4211-a2b2-6256e3655eee",
   "metadata": {},
   "outputs": [
    {
     "data": {
      "text/plain": [
       "0"
      ]
     },
     "execution_count": 53,
     "metadata": {},
     "output_type": "execute_result"
    }
   ],
   "source": [
    "dfr['Restaurant_ID'].duplicated().sum()"
   ]
  },
  {
   "cell_type": "code",
   "execution_count": 54,
   "id": "a068023e-c540-453c-b944-d62b6e94a58d",
   "metadata": {},
   "outputs": [
    {
     "name": "stdout",
     "output_type": "stream",
     "text": [
      "'bolt_head': great news Master Chief we have no duplicates of consumer_id nor resturant_id\n"
     ]
    }
   ],
   "source": [
    "print (iva_name + \" great news \" +programmer+ \" we have no duplicates of consumer_id nor resturant_id\")"
   ]
  },
  {
   "cell_type": "code",
   "execution_count": 55,
   "id": "c0f5278a-2c94-4f25-95ac-58814d9dd3f9",
   "metadata": {},
   "outputs": [
    {
     "data": {
      "text/plain": [
       "1"
      ]
     },
     "execution_count": 55,
     "metadata": {},
     "output_type": "execute_result"
    }
   ],
   "source": [
    "dfr['Longitude'].duplicated().sum()"
   ]
  },
  {
   "cell_type": "code",
   "execution_count": 56,
   "id": "bb8feb34-cae9-48c1-8107-1d9dd2d7be8d",
   "metadata": {},
   "outputs": [
    {
     "data": {
      "text/plain": [
       "1"
      ]
     },
     "execution_count": 56,
     "metadata": {},
     "output_type": "execute_result"
    }
   ],
   "source": [
    "dfr['Latitude'].duplicated().sum()"
   ]
  },
  {
   "cell_type": "code",
   "execution_count": 57,
   "id": "9395d134-1c08-428c-9f2a-144b2c9e8367",
   "metadata": {},
   "outputs": [
    {
     "name": "stdout",
     "output_type": "stream",
     "text": [
      "'bolt_head': uh oh, let me make sure we dont have the same place under differerent restaurant_id's\n"
     ]
    }
   ],
   "source": [
    "print( iva_name+ \" uh oh, let me make sure we dont have the same place under differerent restaurant_id's\")"
   ]
  },
  {
   "cell_type": "code",
   "execution_count": 58,
   "id": "f2635a9e-f6b6-48fa-8e10-1cb1816666b1",
   "metadata": {},
   "outputs": [
    {
     "data": {
      "text/html": [
       "<div>\n",
       "<style scoped>\n",
       "    .dataframe tbody tr th:only-of-type {\n",
       "        vertical-align: middle;\n",
       "    }\n",
       "\n",
       "    .dataframe tbody tr th {\n",
       "        vertical-align: top;\n",
       "    }\n",
       "\n",
       "    .dataframe thead th {\n",
       "        text-align: right;\n",
       "    }\n",
       "</style>\n",
       "<table border=\"1\" class=\"dataframe\">\n",
       "  <thead>\n",
       "    <tr style=\"text-align: right;\">\n",
       "      <th></th>\n",
       "      <th>Restaurant_ID</th>\n",
       "      <th>Name</th>\n",
       "      <th>City</th>\n",
       "      <th>State</th>\n",
       "      <th>Country</th>\n",
       "      <th>Zip_code</th>\n",
       "      <th>Latitude</th>\n",
       "      <th>Longitude</th>\n",
       "      <th>Alcohol_service</th>\n",
       "      <th>Smoking_Allowed</th>\n",
       "      <th>Price</th>\n",
       "      <th>Franchise</th>\n",
       "      <th>Area</th>\n",
       "      <th>Parking</th>\n",
       "    </tr>\n",
       "  </thead>\n",
       "  <tbody>\n",
       "    <tr>\n",
       "      <th>103</th>\n",
       "      <td>135058</td>\n",
       "      <td>Restaurante Tiberius</td>\n",
       "      <td>San Luis Potosi</td>\n",
       "      <td>San Luis Potosi</td>\n",
       "      <td>Mexico</td>\n",
       "      <td>64000.0</td>\n",
       "      <td>22.165587</td>\n",
       "      <td>-101.001273</td>\n",
       "      <td>None</td>\n",
       "      <td>No</td>\n",
       "      <td>Medium</td>\n",
       "      <td>Yes</td>\n",
       "      <td>Closed</td>\n",
       "      <td>Public</td>\n",
       "    </tr>\n",
       "  </tbody>\n",
       "</table>\n",
       "</div>"
      ],
      "text/plain": [
       "     Restaurant_ID                  Name             City            State  \\\n",
       "103         135058  Restaurante Tiberius  San Luis Potosi  San Luis Potosi   \n",
       "\n",
       "    Country  Zip_code   Latitude   Longitude Alcohol_service  Smoking_Allowed  \\\n",
       "103  Mexico   64000.0  22.165587 -101.001273             None              No   \n",
       "\n",
       "      Price Franchise    Area Parking  \n",
       "103  Medium       Yes  Closed  Public  "
      ]
     },
     "execution_count": 58,
     "metadata": {},
     "output_type": "execute_result"
    }
   ],
   "source": [
    "dfr[dfr['Longitude'].duplicated()].head()\n"
   ]
  },
  {
   "cell_type": "code",
   "execution_count": 59,
   "id": "55e1d418-fc3b-4363-84e8-d574cf19918b",
   "metadata": {},
   "outputs": [
    {
     "data": {
      "text/html": [
       "<div>\n",
       "<style scoped>\n",
       "    .dataframe tbody tr th:only-of-type {\n",
       "        vertical-align: middle;\n",
       "    }\n",
       "\n",
       "    .dataframe tbody tr th {\n",
       "        vertical-align: top;\n",
       "    }\n",
       "\n",
       "    .dataframe thead th {\n",
       "        text-align: right;\n",
       "    }\n",
       "</style>\n",
       "<table border=\"1\" class=\"dataframe\">\n",
       "  <thead>\n",
       "    <tr style=\"text-align: right;\">\n",
       "      <th></th>\n",
       "      <th>Restaurant_ID</th>\n",
       "      <th>Name</th>\n",
       "      <th>City</th>\n",
       "      <th>State</th>\n",
       "      <th>Country</th>\n",
       "      <th>Zip_code</th>\n",
       "      <th>Latitude</th>\n",
       "      <th>Longitude</th>\n",
       "      <th>Alcohol_service</th>\n",
       "      <th>Smoking_Allowed</th>\n",
       "      <th>Price</th>\n",
       "      <th>Franchise</th>\n",
       "      <th>Area</th>\n",
       "      <th>Parking</th>\n",
       "    </tr>\n",
       "  </thead>\n",
       "  <tbody>\n",
       "    <tr>\n",
       "      <th>97</th>\n",
       "      <td>135051</td>\n",
       "      <td>Restaurante Versalles</td>\n",
       "      <td>San Luis Potosi</td>\n",
       "      <td>San Luis Potosi</td>\n",
       "      <td>Mexico</td>\n",
       "      <td>78000.0</td>\n",
       "      <td>22.151189</td>\n",
       "      <td>-100.977058</td>\n",
       "      <td>None</td>\n",
       "      <td>Smoking Section</td>\n",
       "      <td>Low</td>\n",
       "      <td>No</td>\n",
       "      <td>Closed</td>\n",
       "      <td>None</td>\n",
       "    </tr>\n",
       "  </tbody>\n",
       "</table>\n",
       "</div>"
      ],
      "text/plain": [
       "    Restaurant_ID                   Name             City            State  \\\n",
       "97         135051  Restaurante Versalles  San Luis Potosi  San Luis Potosi   \n",
       "\n",
       "   Country  Zip_code   Latitude   Longitude Alcohol_service   Smoking_Allowed  \\\n",
       "97  Mexico   78000.0  22.151189 -100.977058             None  Smoking Section   \n",
       "\n",
       "   Price Franchise    Area Parking  \n",
       "97   Low        No  Closed    None  "
      ]
     },
     "execution_count": 59,
     "metadata": {},
     "output_type": "execute_result"
    }
   ],
   "source": [
    "dfr[dfr['Latitude'].duplicated()].head()"
   ]
  },
  {
   "cell_type": "code",
   "execution_count": 60,
   "id": "5e679c98-03f8-4dfa-88dc-7c9a96151cb7",
   "metadata": {},
   "outputs": [
    {
     "name": "stdout",
     "output_type": "stream",
     "text": [
      "'bolt_head': Master Chief we are all good no worries\n"
     ]
    }
   ],
   "source": [
    "print( iva_name +\" \"+ programmer+ \" we are all good no worries\")"
   ]
  },
  {
   "cell_type": "code",
   "execution_count": 63,
   "id": "6e29afa6-b5cd-4507-821a-b378b28eda2d",
   "metadata": {},
   "outputs": [
    {
     "data": {
      "text/plain": [
       "No                 95\n",
       "Smoking Section    24\n",
       "Yes                 9\n",
       "Bar Only            2\n",
       "Name: Smoking_Allowed, dtype: int64"
      ]
     },
     "execution_count": 63,
     "metadata": {},
     "output_type": "execute_result"
    }
   ],
   "source": [
    "dfr['Smoking_Allowed'].value_counts()\n"
   ]
  },
  {
   "cell_type": "code",
   "execution_count": 64,
   "id": "9152eb2c-d75a-482d-81eb-2aa253cb2bb1",
   "metadata": {},
   "outputs": [
    {
     "data": {
      "text/plain": [
       "Student       104\n",
       "Employed       15\n",
       "Unemployed      1\n",
       "Name: Occupation, dtype: int64"
      ]
     },
     "execution_count": 64,
     "metadata": {},
     "output_type": "execute_result"
    }
   ],
   "source": [
    "dfc['Occupation'].value_counts()"
   ]
  },
  {
   "cell_type": "code",
   "execution_count": 65,
   "id": "22e13831-773d-44b9-ad3f-54836321ff6b",
   "metadata": {},
   "outputs": [
    {
     "data": {
      "text/plain": [
       "<function matplotlib.pyplot.show(close=None, block=None)>"
      ]
     },
     "execution_count": 65,
     "metadata": {},
     "output_type": "execute_result"
    },
    {
     "data": {
      "image/png": "[encoded data removed]",
      "text/plain": [
       "<Figure size 432x288 with 1 Axes>"
      ]
     },
     "metadata": {
      "needs_background": "light"
     },
     "output_type": "display_data"
    }
   ],
   "source": [
    "import matplotlib.pyplot as plt\n",
    "y= ['student', 'employed', 'unemployed']\n",
    "\n",
    "w = [113,16,2]\n",
    "c=[\"red\", \"green\", \"orange\"]\n",
    "plt.barh(y,w, color=c)\n",
    "\n",
    "plt.ylabel(\"occupation\")\n",
    "plt.xlabel(\"total_in_community\")\n",
    "\n",
    "plt.title(\" \")\n",
    "plt.show"
   ]
  },
  {
   "cell_type": "code",
   "execution_count": 66,
   "id": "f3eb1b63-1293-4d1b-ac06-2440b98b72a3",
   "metadata": {},
   "outputs": [
    {
     "data": {
      "image/png": "[encoded data removed]",
      "text/plain": [
       "<Figure size 432x288 with 1 Axes>"
      ]
     },
     "metadata": {},
     "output_type": "display_data"
    }
   ],
   "source": [
    "import matplotlib.pyplot as plt\n",
    "consumers =[9,101,14,15]\n",
    "age = ['18-20', '21-25', '25-30', '30+']\n",
    "exp = [0,0.1,0,0]\n",
    "cl= ['orange', 'teal', 'red', 'purple']\n",
    "plt.pie(consumers, labels= age, explode = exp, autopct= '%2.1f%%', colors = cl)\n",
    "plt.show()\n"
   ]
  },
  {
   "cell_type": "code",
   "execution_count": 67,
   "id": "80b7be58-3579-4eb6-9d72-d3ce589f2492",
   "metadata": {},
   "outputs": [
    {
     "data": {
      "text/plain": [
       "<function matplotlib.pyplot.show(close=None, block=None)>"
      ]
     },
     "execution_count": 67,
     "metadata": {},
     "output_type": "execute_result"
    },
    {
     "data": {
      "image/png": "[encoded data removed]",
      "text/plain": [
       "<Figure size 432x288 with 1 Axes>"
      ]
     },
     "metadata": {
      "needs_background": "light"
     },
     "output_type": "display_data"
    }
   ],
   "source": [
    "\n",
    "\n",
    "x = ['abstemios', 'casual', 'social']\n",
    "h= [51,47,40]\n",
    "plt.bar(x,h)\n",
    "plt.xlabel(\"drink_level\")\n",
    "plt.ylabel(\"total\")\n",
    "plt.title(\" \")\n",
    "plt.show"
   ]
  },
  {
   "cell_type": "code",
   "execution_count": 68,
   "id": "d262950f-a4ba-429e-b462-5dc42dbefe49",
   "metadata": {},
   "outputs": [
    {
     "data": {
      "text/plain": [
       "<function matplotlib.pyplot.show(close=None, block=None)>"
      ]
     },
     "execution_count": 68,
     "metadata": {},
     "output_type": "execute_result"
    },
    {
     "data": {
      "image/png": "[encoded data removed]",
      "text/plain": [
       "<Figure size 432x288 with 1 Axes>"
      ]
     },
     "metadata": {
      "needs_background": "light"
     },
     "output_type": "display_data"
    }
   ],
   "source": [
    "x = ['yes', 'no']\n",
    "h= [26,109]\n",
    "plt.bar(x,h)\n",
    "plt.xlabel(\"Smoker\")\n",
    "plt.ylabel(\"total\")\n",
    "plt.title(\" \")\n",
    "plt.show"
   ]
  },
  {
   "cell_type": "code",
   "execution_count": null,
   "id": "2e6f7204-3154-4ba2-9a5c-db2e8bc3fe17",
   "metadata": {},
   "outputs": [],
   "source": []
  }
 ],
 "metadata": {
  "kernelspec": {
   "display_name": "Python 3 (ipykernel)",
   "language": "python",
   "name": "python3"
  },
  "language_info": {
   "codemirror_mode": {
    "name": "ipython",
    "version": 3
   },
   "file_extension": ".py",
   "mimetype": "text/x-python",
   "name": "python",
   "nbconvert_exporter": "python",
   "pygments_lexer": "ipython3",
   "version": "3.9.12"
  }
 },
 "nbformat": 4,
 "nbformat_minor": 5
}
